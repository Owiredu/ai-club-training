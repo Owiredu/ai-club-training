{
 "cells": [
  {
   "cell_type": "markdown",
   "metadata": {},
   "source": [
    "### MOTION DETECTION USING FRAME DIFFERENCE"
   ]
  },
  {
   "cell_type": "code",
   "execution_count": null,
   "metadata": {},
   "outputs": [],
   "source": [
    "# import libraries\n",
    "import cv2 # help: https://docs.opencv.org/4.x/d6/d00/tutorial_py_root.html"
   ]
  },
  {
   "cell_type": "code",
   "execution_count": null,
   "metadata": {},
   "outputs": [],
   "source": [
    "def detect_motion(previous_frame, current_frame, next_frame, threshold = 40):\n",
    "    \"\"\"Detects motion by finding frame difference across 3 consercutive frames\n",
    "\n",
    "    Args:\n",
    "        previous_frame (Mat): The previous frame\n",
    "        current_frame (Mat): The current frame\n",
    "        next_frame (Mat): The next frame\n",
    "        threshold (int): The level of sensitivity\n",
    "    \"\"\"\n",
    "    # convert all the frames to grayscale\n",
    "    next_frame = cv2.cvtColor(next_frame, cv2.COLOR_BGR2GRAY)\n",
    "    current_frame = cv2.cvtColor(current_frame, cv2.COLOR_BGR2GRAY)\n",
    "    previous_frame = cv2.cvtColor(previous_frame, cv2.COLOR_BGR2GRAY)\n",
    "    \n",
    "    # set frames to same size\n",
    "    next_frame = cv2.resize(next_frame, (200, 200))\n",
    "    current_frame = cv2.resize(current_frame, (200, 200))\n",
    "    previous_frame = cv2.resize(previous_frame, (200, 200))\n",
    "    \n",
    "    # get the differences between the frames and use bitwise and operator to get the resolved differences\n",
    "    # between three successive frames\n",
    "    next_cur_diff = cv2.absdiff(next_frame, current_frame)\n",
    "    cur_prev_diff = cv2.absdiff(current_frame, previous_frame)\n",
    "    resolve_diff = cv2.bitwise_and(next_cur_diff, cur_prev_diff)\n",
    "    \n",
    "    # get the difference count and use to detect motion\n",
    "    if (resolve_diff > 100 - threshold).sum() > 50:\n",
    "        print(\"motion detected\")\n",
    "        \n",
    "    # return frame difference\n",
    "    return resolve_diff"
   ]
  },
  {
   "cell_type": "code",
   "execution_count": null,
   "metadata": {},
   "outputs": [],
   "source": [
    "# start video capture\n",
    "capture = cv2.VideoCapture(0)\n",
    "\n",
    "# check whether the capture was opened successfully\n",
    "if not capture.isOpened():\n",
    "    print(\"Unable to start camera\")\n",
    "\n",
    "# initialize frame tracker and frame holders\n",
    "frames_tracker = 0\n",
    "previous_frame, current_frame, next_frame = None, None, None\n",
    "\n",
    "while True:\n",
    "    # capture the next frame\n",
    "    ret, frame = capture.read()\n",
    "    \n",
    "    # check whether the frame is available or not\n",
    "    if frame is None:\n",
    "        break\n",
    "    \n",
    "    if frames_tracker == 0:\n",
    "        # grab first frame\n",
    "        previous_frame = frame.copy()\n",
    "        frames_tracker += 1\n",
    "    elif frames_tracker == 1:\n",
    "        # grab second frame\n",
    "        current_frame = frame.copy()\n",
    "        frames_tracker += 1\n",
    "    elif frames_tracker == 2:\n",
    "        # grab third frame\n",
    "        next_frame = frame.copy()\n",
    "        frames_tracker += 1\n",
    "    elif frames_tracker == 3:\n",
    "        # detect motion\n",
    "        frame = detect_motion(previous_frame, current_frame, next_frame)\n",
    "        frames_tracker += 1\n",
    "    else:\n",
    "        # reshuffle frames\n",
    "        previous_frame = current_frame\n",
    "        current_frame = next_frame\n",
    "        next_frame = frame\n",
    "        # detect motion\n",
    "        frame = detect_motion(previous_frame, current_frame, next_frame)\n",
    "    \n",
    "    # show the captured frame\n",
    "    cv2.imshow(\"Video\", frame)\n",
    "    \n",
    "    # wait 30 milliseconds for a key press event\n",
    "    keypressed = cv2.waitKey(30)\n",
    "    # if the ESC key is pressed, destroy all windows and release resources\n",
    "    if keypressed == 27:\n",
    "        # release camera\n",
    "        capture.release()\n",
    "        # destroy all windows\n",
    "        cv2.destroyAllWindows()\n",
    "        break"
   ]
  },
  {
   "cell_type": "code",
   "execution_count": null,
   "metadata": {},
   "outputs": [],
   "source": []
  }
 ],
 "metadata": {
  "kernelspec": {
   "display_name": "Python 3.10.5 ('venv': venv)",
   "language": "python",
   "name": "python3"
  },
  "language_info": {
   "codemirror_mode": {
    "name": "ipython",
    "version": 3
   },
   "file_extension": ".py",
   "mimetype": "text/x-python",
   "name": "python",
   "nbconvert_exporter": "python",
   "pygments_lexer": "ipython3",
   "version": "3.10.5"
  },
  "orig_nbformat": 4,
  "vscode": {
   "interpreter": {
    "hash": "2d7c30d179e9c1a290940183286479ebb0e1ee6b9e15b239745f2952100a9585"
   }
  }
 },
 "nbformat": 4,
 "nbformat_minor": 2
}
