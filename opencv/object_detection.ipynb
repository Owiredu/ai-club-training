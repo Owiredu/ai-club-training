{
 "cells": [
  {
   "cell_type": "markdown",
   "metadata": {},
   "source": [
    "### MY CONTACT (WHATSAPP): 0206546543"
   ]
  },
  {
   "cell_type": "markdown",
   "metadata": {},
   "source": [
    "## OBJECT DETECTION WITH OPENCV"
   ]
  },
  {
   "cell_type": "code",
   "execution_count": 1,
   "metadata": {},
   "outputs": [],
   "source": [
    "# import libraries\n",
    "import cv2 # help: https://docs.opencv.org/4.x/d6/d00/tutorial_py_root.html"
   ]
  },
  {
   "cell_type": "code",
   "execution_count": 31,
   "metadata": {},
   "outputs": [
    {
     "data": {
      "text/plain": [
       "'4.6.0'"
      ]
     },
     "execution_count": 31,
     "metadata": {},
     "output_type": "execute_result"
    }
   ],
   "source": [
    "# check the opencv version is use\n",
    "cv2.__version__"
   ]
  },
  {
   "cell_type": "markdown",
   "metadata": {},
   "source": [
    "#### PART 1 - WORKING WITH IMAGES"
   ]
  },
  {
   "cell_type": "code",
   "execution_count": 10,
   "metadata": {},
   "outputs": [
    {
     "name": "stdout",
     "output_type": "stream",
     "text": [
      "img_width = 612, img_height = 408, channels = 3\n"
     ]
    }
   ],
   "source": [
    "# read an image\n",
    "img_data = cv2.imread(\"images/img-1.jpg\", cv2.IMREAD_COLOR)\n",
    "\n",
    "# get the dimensions of the image\n",
    "img_height, img_width, channels = img_data.shape\n",
    "print(f\"{img_width = }, {img_height = }, {channels = }\")\n",
    "\n",
    "# show an image\n",
    "cv2.imshow(\"Image Color\", img_data)\n",
    "\n",
    "# wait indefinitly for a key press event\n",
    "keypressed = cv2.waitKey(delay=0)\n",
    "# if the ESC key is pressed, destroy all windows and release resources\n",
    "if keypressed == 27:\n",
    "    cv2.destroyAllWindows()"
   ]
  },
  {
   "cell_type": "markdown",
   "metadata": {},
   "source": [
    "#### SOME IMAGE OPERATIONS"
   ]
  },
  {
   "cell_type": "code",
   "execution_count": 22,
   "metadata": {},
   "outputs": [],
   "source": [
    "# convert image from colored to grayscale\n",
    "img_data_gray = cv2.cvtColor(img_data, cv2.COLOR_BGR2GRAY)\n",
    "\n",
    "# put text on the image\n",
    "img_data_text = cv2.putText(\n",
    "    img=img_data.copy(), \n",
    "    text=\"Welcome to OpenCV\", \n",
    "    org=((img_width // 2) - 150, img_height // 2), \n",
    "    fontFace=cv2.FONT_HERSHEY_COMPLEX, \n",
    "    fontScale=1, \n",
    "    color=(0, 0, 255), \n",
    "    thickness=2, \n",
    "    lineType=cv2.LINE_AA\n",
    ")\n",
    "\n",
    "# draw a line\n",
    "img_data_line = cv2.line(\n",
    "    img=img_data.copy(),\n",
    "    pt1=((img_width // 2) - 150, img_height // 2), \n",
    "    pt2=(300, 150), \n",
    "    color=(255, 0, 255),\n",
    "    thickness=3,\n",
    "    lineType=cv2.LINE_AA\n",
    ")\n",
    "\n",
    "# draw a rectangle\n",
    "img_data_rect = cv2.rectangle(\n",
    "    img=img_data.copy(), \n",
    "    pt1=((img_width // 2) - 150, img_height // 2), \n",
    "    pt2=(300, 150), \n",
    "    color=(255, 0, 0), \n",
    "    thickness=-1,\n",
    "    lineType=cv2.LINE_AA\n",
    ")\n",
    "\n",
    "# draw a circle\n",
    "img_data_circle = cv2.circle(\n",
    "    img=img_data.copy(),\n",
    "    center=(img_width // 2, img_height // 2),\n",
    "    radius=100,\n",
    "    color=(0, 255, 0), \n",
    "    thickness=3,\n",
    "    lineType=cv2.LINE_AA\n",
    ")\n",
    "\n",
    "# draw an ellipse\n",
    "img_data_ellipse = cv2.ellipse(\n",
    "    img=img_data.copy(),\n",
    "    center=(img_width // 2, img_height // 2),\n",
    "    axes=(100, 150),\n",
    "    angle=0,\n",
    "    startAngle=20,\n",
    "    endAngle=380,\n",
    "    color=(0, 255, 0), \n",
    "    thickness=3,\n",
    "    lineType=cv2.LINE_AA\n",
    ")\n",
    "\n",
    "# show image\n",
    "# cv2.imshow(\"Image Gray\", img_data_gray)\n",
    "# cv2.imshow(\"Image Text\", img_data_text)\n",
    "cv2.imshow(\"Image Line\", img_data_line)\n",
    "cv2.imshow(\"Image Rectangle\", img_data_rect)\n",
    "cv2.imshow(\"Image Circle\", img_data_circle)\n",
    "cv2.imshow(\"Image Ellipse\", img_data_ellipse)\n",
    "\n",
    "# wait indefinitly for a key press event\n",
    "keypressed = cv2.waitKey(0)\n",
    "# if the ESC key is pressed, destroy all windows and release resources\n",
    "if keypressed == 27:\n",
    "    cv2.destroyAllWindows()"
   ]
  },
  {
   "cell_type": "markdown",
   "metadata": {},
   "source": [
    "#### PART 2 - OBJECT DETECTION IN IMAGES"
   ]
  },
  {
   "cell_type": "code",
   "execution_count": 23,
   "metadata": {},
   "outputs": [],
   "source": [
    "# load classifiers (source: https://github.com/opencv/opencv/tree/3.4/data)\n",
    "face_cascade = cv2.CascadeClassifier()\n",
    "face_cascade.load(cv2.samples.findFile(\"haarcascades/haarcascade_frontalface_alt.xml\"))\n",
    "eyes_cascade = cv2.CascadeClassifier()\n",
    "eyes_cascade.load(cv2.samples.findFile(\"haarcascades/haarcascade_eye_tree_eyeglasses.xml\"))\n",
    "face_cascade_cuda = cv2.CascadeClassifier()\n",
    "face_cascade_cuda.load(cv2.samples.findFile(\"haarcascades_cuda/haarcascade_frontalface_alt.xml\"))\n",
    "eyes_cascade_cuda = cv2.CascadeClassifier()\n",
    "eyes_cascade_cuda.load(cv2.samples.findFile(\"haarcascades_cuda/haarcascade_eye_tree_eyeglasses.xml\"))\n",
    "\n",
    "# check whether the classifiers were loaded or not\n",
    "if not face_cascade:\n",
    "    print(\"Failed to load the face cascade\")\n",
    "if not eyes_cascade:\n",
    "    print(\"Failed to load the eye cascade\")\n",
    "if not face_cascade_cuda:\n",
    "    print(\"Failed to load the face cascade for CUDA\")\n",
    "if not eyes_cascade_cuda:\n",
    "    print(\"Failed to load the eye cascade for CUDA\")"
   ]
  },
  {
   "cell_type": "code",
   "execution_count": 25,
   "metadata": {},
   "outputs": [],
   "source": [
    "def detect_face(frame):\n",
    "    \"\"\"Detect face\n",
    "\n",
    "    Args:\n",
    "        frame (Mat): An image matrix or frame\n",
    "\n",
    "    Returns:\n",
    "        Mat: The processed frame\n",
    "    \"\"\"\n",
    "    frame_gray = cv2.cvtColor(frame, cv2.COLOR_BGR2GRAY)\n",
    "    frame_gray = cv2.equalizeHist(frame_gray)\n",
    "    #-- Detect faces\n",
    "    faces = face_cascade.detectMultiScale(frame_gray)\n",
    "    for (x,y,w,h) in faces:\n",
    "        center = (x + w // 2, y + h // 2)\n",
    "        frame = cv2.ellipse(frame, center, (w // 2, h // 2), 0, 0, 360, (255, 0, 255), 4)\n",
    "        faceROI = frame_gray[y:y+h, x:x+w]\n",
    "        #-- In each face, detect eyes\n",
    "        eyes = eyes_cascade.detectMultiScale(faceROI)\n",
    "        for (x2,y2,w2,h2) in eyes:\n",
    "            eye_center = (x + x2 + w2 // 2, y + y2 + h2 // 2)\n",
    "            radius = int(round((w2 + h2) * 0.25))\n",
    "            frame = cv2.circle(frame, eye_center, radius, (255, 0, 0 ), 4)\n",
    "    return frame\n",
    "\n",
    "\n",
    "def detect_face_cuda(frame):\n",
    "    \"\"\"Detect face using CUDA\n",
    "\n",
    "    Args:\n",
    "        frame (Mat): An image matrix or frame\n",
    "\n",
    "    Returns:\n",
    "        Mat: The processed frame\n",
    "    \"\"\"\n",
    "    frame_gray = cv2.cvtColor(frame, cv2.COLOR_BGR2GRAY)\n",
    "    frame_gray = cv2.equalizeHist(frame_gray)\n",
    "    #-- Detect faces\n",
    "    faces = face_cascade_cuda.detectMultiScale(frame_gray)\n",
    "    for (x,y,w,h) in faces:\n",
    "        center = (x + w // 2, y + h // 2)\n",
    "        frame = cv2.ellipse(frame, center, (w // 2, h // 2), 0, 0, 360, (255, 0, 255), 4)\n",
    "        faceROI = frame_gray[y:y+h,x:x+w]\n",
    "        #-- In each face, detect eyes\n",
    "        eyes = eyes_cascade_cuda.detectMultiScale(faceROI)\n",
    "        for (x2,y2,w2,h2) in eyes:\n",
    "            eye_center = (x + x2 + w2 // 2, y + y2 + h2 // 2)\n",
    "            radius = int(round((w2 + h2) * 0.25))\n",
    "            frame = cv2.circle(frame, eye_center, radius, (255, 0, 0 ), 4)\n",
    "    return frame\n",
    "\n",
    "\n",
    "def show_img(title, img):\n",
    "    \"\"\"Display an image\n",
    "\n",
    "    Args:\n",
    "        title (str): The title of the display window\n",
    "        img (Mat): The image to be displayed\n",
    "    \"\"\"\n",
    "    # show image\n",
    "    cv2.imshow(title, img)\n",
    "    \n",
    "    # wait indefinitly for a key press event\n",
    "    keypressed = cv2.waitKey(0)\n",
    "    # if the ESC key is pressed, destroy all windows and release resources\n",
    "    if keypressed == 27:\n",
    "        cv2.destroyAllWindows()"
   ]
  },
  {
   "cell_type": "code",
   "execution_count": 26,
   "metadata": {},
   "outputs": [],
   "source": [
    "# detect faces\n",
    "img_for_detection = cv2.imread(\"images/img-3.jpg\")\n",
    "\n",
    "# show result\n",
    "show_img(\"Detected face\", detect_face(img_for_detection))"
   ]
  },
  {
   "cell_type": "markdown",
   "metadata": {},
   "source": [
    "#### PART 3 - WORKING WITH CAMERAS AND VIDEOS"
   ]
  },
  {
   "cell_type": "code",
   "execution_count": 28,
   "metadata": {},
   "outputs": [],
   "source": [
    "# start video capture\n",
    "capture = cv2.VideoCapture(0)\n",
    "\n",
    "# check whether the capture was opened successfully\n",
    "if not capture.isOpened():\n",
    "    print(\"Unable to start camera\")"
   ]
  },
  {
   "cell_type": "code",
   "execution_count": 29,
   "metadata": {},
   "outputs": [],
   "source": [
    "while True:\n",
    "    # capture the next frame\n",
    "    ret, frame = capture.read()\n",
    "    \n",
    "    # check whether the frame is available or not\n",
    "    if frame is None:\n",
    "        break\n",
    "    \n",
    "    # show the captured frame\n",
    "    cv2.imshow(\"Video\", frame)\n",
    "    \n",
    "    # wait 30 milliseconds for a key press event\n",
    "    keypressed = cv2.waitKey(30)\n",
    "    # if the ESC key is pressed, destroy all windows and release resources\n",
    "    if keypressed == 27:\n",
    "        # release camera\n",
    "        capture.release()\n",
    "        # destroy all windows\n",
    "        cv2.destroyAllWindows()\n",
    "        break"
   ]
  },
  {
   "cell_type": "markdown",
   "metadata": {},
   "source": [
    "#### PART 2 - OBJECT DETECTION IN VIDEOS"
   ]
  },
  {
   "cell_type": "code",
   "execution_count": 32,
   "metadata": {},
   "outputs": [],
   "source": [
    "# start video capture\n",
    "capture = cv2.VideoCapture(0)\n",
    "\n",
    "# check whether the capture was opened successfully\n",
    "if not capture.isOpened():\n",
    "    print(\"Unable to start camera\")\n",
    "\n",
    "while True:\n",
    "    # capture the next frame\n",
    "    ret, frame = capture.read()\n",
    "    \n",
    "    # check whether the frame is available or not\n",
    "    if frame is None:\n",
    "        break\n",
    "    \n",
    "    # detect faces\n",
    "    frame = detect_face_cuda(frame)\n",
    "    \n",
    "    # show the captured frame\n",
    "    cv2.imshow(\"Video\", frame)\n",
    "    \n",
    "    # wait 30 milliseconds for a key press event\n",
    "    keypressed = cv2.waitKey(30)\n",
    "    # if the ESC key is pressed, destroy all windows and release resources\n",
    "    if keypressed == 27:\n",
    "        # release camera\n",
    "        capture.release()\n",
    "        # destroy all windows\n",
    "        cv2.destroyAllWindows()\n",
    "        break"
   ]
  },
  {
   "cell_type": "code",
   "execution_count": null,
   "metadata": {},
   "outputs": [],
   "source": []
  }
 ],
 "metadata": {
  "kernelspec": {
   "display_name": "Python 3.10.5 ('venv': venv)",
   "language": "python",
   "name": "python3"
  },
  "language_info": {
   "codemirror_mode": {
    "name": "ipython",
    "version": 3
   },
   "file_extension": ".py",
   "mimetype": "text/x-python",
   "name": "python",
   "nbconvert_exporter": "python",
   "pygments_lexer": "ipython3",
   "version": "3.10.5"
  },
  "orig_nbformat": 4,
  "vscode": {
   "interpreter": {
    "hash": "5091eab1553ed5ffb26c43408e4fb8ddefc50291a52d736041c5bb0757ef45f6"
   }
  }
 },
 "nbformat": 4,
 "nbformat_minor": 2
}
